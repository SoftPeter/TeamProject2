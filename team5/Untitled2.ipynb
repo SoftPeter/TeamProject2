{
 "cells": [
  {
   "cell_type": "code",
   "execution_count": 1,
   "metadata": {},
   "outputs": [
    {
     "name": "stdout",
     "output_type": "stream",
     "text": [
      "{\"startDate\":\"2017-08-01\",\"endDate\":\"2017-09-30\",\"timeUnit\":\"month\",\"results\":[{\"title\":\"패션의류\",\"category\":[\"50000000\"],\"data\":[{\"period\":\"2017-09-01\",\"ratio\":100}]},{\"title\":\"화장품/미용\",\"category\":[\"50000002\"],\"data\":[{\"period\":\"2017-09-01\",\"ratio\":21.54278}]}]}\n"
     ]
    }
   ],
   "source": [
    "#-*- coding: utf-8 -*-\n",
    "import os\n",
    "import sys\n",
    "import urllib.request\n",
    "client_id = \"Qnlm4aMd25GWA2UD1wXM\"\n",
    "client_secret = \"2dKrmsR1GP\"\n",
    "url = \"https://openapi.naver.com/v1/datalab/shopping/categories\";\n",
    "body = \"{\\\"startDate\\\":\\\"2017-08-01\\\",\\\"endDate\\\":\\\"2017-09-30\\\",\\\"timeUnit\\\":\\\"month\\\",\\\"category\\\":[{\\\"name\\\":\\\"패션의류\\\",\\\"param\\\":[\\\"50000000\\\"]},{\\\"name\\\":\\\"화장품/미용\\\",\\\"param\\\":[\\\"50000002\\\"]}],\\\"device\\\":\\\"pc\\\",\\\"ages\\\":[\\\"20\\\",\\\"30\\\"],\\\"gender\\\":\\\"f\\\"}\";\n",
    "\n",
    "request = urllib.request.Request(url)\n",
    "request.add_header(\"X-Naver-Client-Id\",client_id)\n",
    "request.add_header(\"X-Naver-Client-Secret\",client_secret)\n",
    "request.add_header(\"Content-Type\",\"application/json\")\n",
    "response = urllib.request.urlopen(request, data=body.encode(\"utf-8\"))\n",
    "rescode = response.getcode()\n",
    "if(rescode==200):\n",
    "    response_body = response.read()\n",
    "    print(response_body.decode('utf-8'))\n",
    "else:\n",
    "    print(\"Error Code:\" + rescode)"
   ]
  },
  {
   "cell_type": "code",
   "execution_count": null,
   "metadata": {},
   "outputs": [],
   "source": []
  }
 ],
 "metadata": {
  "kernelspec": {
   "display_name": "Python 3",
   "language": "python",
   "name": "python3"
  },
  "language_info": {
   "codemirror_mode": {
    "name": "ipython",
    "version": 3
   },
   "file_extension": ".py",
   "mimetype": "text/x-python",
   "name": "python",
   "nbconvert_exporter": "python",
   "pygments_lexer": "ipython3",
   "version": "3.7.1"
  }
 },
 "nbformat": 4,
 "nbformat_minor": 2
}
