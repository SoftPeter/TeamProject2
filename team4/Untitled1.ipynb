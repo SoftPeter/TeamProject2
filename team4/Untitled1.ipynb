{
 "cells": [
  {
   "cell_type": "code",
   "execution_count": 1,
   "metadata": {},
   "outputs": [],
   "source": [
    "import tensorflow as tf\n",
    "\n",
    "import numpy as np\n"
   ]
  },
  {
   "cell_type": "code",
   "execution_count": 2,
   "metadata": {},
   "outputs": [
    {
     "name": "stdout",
     "output_type": "stream",
     "text": [
      "WARNING:tensorflow:From /anaconda3/lib/python3.7/site-packages/tensorflow/python/framework/op_def_library.py:263: colocate_with (from tensorflow.python.framework.ops) is deprecated and will be removed in a future version.\n",
      "Instructions for updating:\n",
      "Colocations handled automatically by placer.\n"
     ]
    }
   ],
   "source": [
    "X = tf.placeholder(tf.float32, shape=[None, 4])\n",
    "\n",
    "Y = tf.placeholder(tf.float32, shape=[None, 1])\n",
    "\n",
    "\n",
    "W = tf.Variable(tf.random_normal([4, 1]), name=\"weight\")\n",
    "\n",
    "b = tf.Variable(tf.random_normal([1]), name=\"bias\")\n",
    "\n"
   ]
  },
  {
   "cell_type": "code",
   "execution_count": 3,
   "metadata": {},
   "outputs": [],
   "source": [
    "hypothesis = tf.matmul(X, W) + b"
   ]
  },
  {
   "cell_type": "code",
   "execution_count": 4,
   "metadata": {},
   "outputs": [],
   "source": [
    "saver = tf.train.Saver()\n",
    "\n",
    "model = tf.global_variables_initializer()"
   ]
  },
  {
   "cell_type": "code",
   "execution_count": 5,
   "metadata": {},
   "outputs": [
    {
     "name": "stdout",
     "output_type": "stream",
     "text": [
      "평균 온도: 10\n",
      "최저 온도: -5\n",
      "최고 온도: 20\n",
      "강수량: 0.8\n"
     ]
    }
   ],
   "source": [
    "avg_temp = float(input('평균 온도: '))\n",
    "\n",
    "min_temp = float(input('최저 온도: '))\n",
    "\n",
    "max_temp = float(input('최고 온도: '))\n",
    "\n",
    "rain_fall = float(input('강수량: '))\n"
   ]
  },
  {
   "cell_type": "code",
   "execution_count": 6,
   "metadata": {},
   "outputs": [
    {
     "name": "stdout",
     "output_type": "stream",
     "text": [
      "WARNING:tensorflow:From /anaconda3/lib/python3.7/site-packages/tensorflow/python/training/saver.py:1266: checkpoint_exists (from tensorflow.python.training.checkpoint_management) is deprecated and will be removed in a future version.\n",
      "Instructions for updating:\n",
      "Use standard file APIs to check for files with this prefix.\n",
      "INFO:tensorflow:Restoring parameters from ./saved.cpkt\n",
      "[5949.7]\n"
     ]
    }
   ],
   "source": [
    "with tf.Session() as sess:\n",
    "\n",
    "    sess.run(model)\n",
    "\n",
    "    save_path = \"./saved.cpkt\"\n",
    "\n",
    "    saver.restore(sess, save_path)\n",
    "\n",
    "\n",
    "    # 사용자의 입력 값을 이용해 배열을 만듭니다.\n",
    "\n",
    "    data = ((avg_temp, min_temp, max_temp, rain_fall), )\n",
    "\n",
    "    arr = np.array(data, dtype=np.float32)\n",
    "\n",
    "\n",
    "    # 예측을 수행한 뒤에 그 결과를 출력합니다.\n",
    "\n",
    "    x_data = arr[0:4]\n",
    "\n",
    "    dict = sess.run(hypothesis, feed_dict={X: x_data})\n",
    "\n",
    "    print(dict[0])\n"
   ]
  },
  {
   "cell_type": "code",
   "execution_count": null,
   "metadata": {},
   "outputs": [],
   "source": []
  }
 ],
 "metadata": {
  "kernelspec": {
   "display_name": "Python 3",
   "language": "python",
   "name": "python3"
  },
  "language_info": {
   "codemirror_mode": {
    "name": "ipython",
    "version": 3
   },
   "file_extension": ".py",
   "mimetype": "text/x-python",
   "name": "python",
   "nbconvert_exporter": "python",
   "pygments_lexer": "ipython3",
   "version": "3.7.1"
  }
 },
 "nbformat": 4,
 "nbformat_minor": 2
}
